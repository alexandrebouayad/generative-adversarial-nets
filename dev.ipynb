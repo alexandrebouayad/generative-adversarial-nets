{
 "cells": [
  {
   "cell_type": "code",
   "execution_count": null,
   "metadata": {},
   "outputs": [],
   "source": [
    "%load_ext autoreload\n",
    "%autoreload 2"
   ]
  },
  {
   "cell_type": "code",
   "execution_count": null,
   "metadata": {},
   "outputs": [],
   "source": [
    "import matplotlib.pyplot as plt\n",
    "from mnist import real_images\n",
    "\n",
    "real_images = real_images.squeeze(axis=-1)\n",
    "real_images = real_images[:100]\n",
    "\n",
    "plt.figure(figsize=(10, 10))\n",
    "for idx, image in enumerate(real_images, start=1):\n",
    "    plt.subplot(10, 10, idx)\n",
    "    plt.imshow(image, cmap=\"gray\", vmin=-1, vmax=1)\n",
    "    plt.axis(\"off\")\n",
    "plt.tight_layout()\n"
   ]
  },
  {
   "cell_type": "code",
   "execution_count": null,
   "metadata": {},
   "outputs": [],
   "source": [
    "from mnist import ImageLogger, dataset, gan\n",
    "\n",
    "gan.fit(dataset, epochs=400, callbacks=[ImageLogger()])\n"
   ]
  }
 ],
 "metadata": {
  "interpreter": {
   "hash": "ced5e53dd9467a667f8777aefce74705cb49a462f7759bb5d3723b15cf6c2639"
  },
  "kernelspec": {
   "display_name": "Python 3.9.9 64-bit ('.venv': venv)",
   "language": "python",
   "name": "python3"
  },
  "language_info": {
   "codemirror_mode": {
    "name": "ipython",
    "version": 3
   },
   "file_extension": ".py",
   "mimetype": "text/x-python",
   "name": "python",
   "nbconvert_exporter": "python",
   "pygments_lexer": "ipython3",
   "version": "3.9.9"
  },
  "orig_nbformat": 4
 },
 "nbformat": 4,
 "nbformat_minor": 2
}
